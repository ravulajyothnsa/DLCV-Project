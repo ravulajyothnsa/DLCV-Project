{
  "nbformat": 4,
  "nbformat_minor": 0,
  "metadata": {
    "colab": {
      "provenance": [],
      "toc_visible": true,
      "authorship_tag": "ABX9TyNvHwOJnto3ewAsdHdJfvBh",
      "include_colab_link": true
    },
    "kernelspec": {
      "name": "python3",
      "display_name": "Python 3"
    },
    "language_info": {
      "name": "python"
    }
  },
  "cells": [
    {
      "cell_type": "markdown",
      "metadata": {
        "id": "view-in-github",
        "colab_type": "text"
      },
      "source": [
        "<a href=\"https://colab.research.google.com/github/ravulajyothnsa/DLCV-Project/blob/main/featurevector.ipynb\" target=\"_parent\"><img src=\"https://colab.research.google.com/assets/colab-badge.svg\" alt=\"Open In Colab\"/></a>"
      ]
    },
    {
      "cell_type": "code",
      "execution_count": 2,
      "metadata": {
        "colab": {
          "base_uri": "https://localhost:8080/"
        },
        "id": "Uih7SZskquOu",
        "outputId": "1a310fbe-b8b7-4bbb-9a79-4083290a3416"
      },
      "outputs": [
        {
          "output_type": "stream",
          "name": "stdout",
          "text": [
            "Extracted Feature Vector Shape: torch.Size([1, 2048])\n"
          ]
        }
      ],
      "source": [
        "import torch\n",
        "import torchvision.models as models\n",
        "import torchvision.transforms as transforms\n",
        "from PIL import Image\n",
        "\n",
        "# Load Pretrained ResNet-50 Model\n",
        "model = models.resnet50(pretrained=True)\n",
        "\n",
        "# Remove the final fully connected layer\n",
        "feature_extractor = torch.nn.Sequential(*list(model.children())[:-1])  # Remove the last layer\n",
        "\n",
        "# Set model to evaluation mode\n",
        "feature_extractor.eval()\n",
        "\n",
        "# Image Preprocessing Transformations\n",
        "transform = transforms.Compose([\n",
        "    transforms.Resize((224, 224)),  # Resize to model input size\n",
        "    transforms.ToTensor(),  # Convert to tensor\n",
        "    transforms.Normalize(mean=[0.485, 0.456, 0.406], std=[0.229, 0.224, 0.225])  # Normalize\n",
        "])\n",
        "\n",
        "# Load and Preprocess Image\n",
        "image_path = \"/content/images.jpg\"  # Provide an image path\n",
        "image = Image.open(image_path).convert(\"RGB\")  # Open Image\n",
        "image = transform(image).unsqueeze(0)  # Add batch dimension\n",
        "\n",
        "# Extract Features\n",
        "with torch.no_grad():\n",
        "    features = feature_extractor(image)\n",
        "\n",
        "# Flatten Feature Vector\n",
        "features = features.view(features.size(0), -1)\n",
        "print(\"Extracted Feature Vector Shape:\", features.shape)  # Output Shape: (1, 2048)\n"
      ]
    }
  ]
}